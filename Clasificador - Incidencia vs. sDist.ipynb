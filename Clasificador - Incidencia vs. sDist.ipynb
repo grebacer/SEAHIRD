{
 "cells": [
  {
   "cell_type": "markdown",
   "metadata": {},
   "source": [
    "## Clasificación con SVM y kNN del nivel de propagación epidémica de COVID-19"
   ]
  },
  {
   "cell_type": "markdown",
   "metadata": {},
   "source": [
    "### Incidencia vs. sDist\n"
   ]
  },
  {
   "cell_type": "markdown",
   "metadata": {},
   "source": [
    "### I. Importación de módulos."
   ]
  },
  {
   "cell_type": "code",
   "execution_count": 1,
   "metadata": {},
   "outputs": [
    {
     "name": "stdout",
     "output_type": "stream",
     "text": [
      "Populating the interactive namespace from numpy and matplotlib\n"
     ]
    }
   ],
   "source": [
    "import pandas as pd # para manipulación de datos. \n",
    "import numpy as np # álgebra lineal\n",
    "\n",
    "#importamos paquetes de visualización de datos.\n",
    "import seaborn as sns\n",
    "from matplotlib.colors import ListedColormap\n",
    "import matplotlib.pyplot as plt\n",
    "# generación de gráficos\n",
    "%pylab inline \n",
    "pylab.rcParams['figure.figsize'] = (10, 6) #fijamos el tamaño predeterminado de las figuras\n",
    "\n",
    "# para el preprocesamiento de datos con los que se\n",
    "# correran ambos algoritmos\n",
    "from sklearn.model_selection import train_test_split # partición de conjuntos\n",
    "from sklearn.preprocessing import StandardScaler # escalamiento de variables\n",
    "\n",
    "#para SVM\n",
    "from sklearn.svm import SVC\n",
    "#para kNN\n",
    "from sklearn.neighbors import KNeighborsClassifier\n",
    "\n",
    "#para optimización\n",
    "from sklearn import metrics\n",
    "from sklearn.model_selection import GridSearchCV\n",
    "\n",
    "#para crear matrices de confusión\n",
    "from sklearn.metrics import confusion_matrix\n",
    "\n"
   ]
  },
  {
   "cell_type": "markdown",
   "metadata": {},
   "source": [
    "### II. Carga del dataset, variables y clases. \n"
   ]
  },
  {
   "cell_type": "markdown",
   "metadata": {},
   "source": [
    "#### II.1 Dataset.\n",
    "El dataset es el archivo ```LOG-complete-clasificacion.csv```, pero con la variable  `Escenario` renombrada numéricamente para los distintos Niveles de propagación (NvProp). "
   ]
  },
  {
   "cell_type": "code",
   "execution_count": 2,
   "metadata": {},
   "outputs": [
    {
     "name": "stdout",
     "output_type": "stream",
     "text": [
      "(280, 11)\n"
     ]
    },
    {
     "data": {
      "text/html": [
       "<div>\n",
       "<style scoped>\n",
       "    .dataframe tbody tr th:only-of-type {\n",
       "        vertical-align: middle;\n",
       "    }\n",
       "\n",
       "    .dataframe tbody tr th {\n",
       "        vertical-align: top;\n",
       "    }\n",
       "\n",
       "    .dataframe thead th {\n",
       "        text-align: right;\n",
       "    }\n",
       "</style>\n",
       "<table border=\"1\" class=\"dataframe\">\n",
       "  <thead>\n",
       "    <tr style=\"text-align: right;\">\n",
       "      <th></th>\n",
       "      <th>Incidencia</th>\n",
       "      <th>Virulencia</th>\n",
       "      <th>P-hosp</th>\n",
       "      <th>Letalidad</th>\n",
       "      <th>Acumulado hosp</th>\n",
       "      <th>sDist</th>\n",
       "      <th>N decesos infeccion</th>\n",
       "      <th>N decesos hosp</th>\n",
       "      <th>Acumulado defunciones</th>\n",
       "      <th>atpi</th>\n",
       "      <th>NvProp</th>\n",
       "    </tr>\n",
       "  </thead>\n",
       "  <tbody>\n",
       "    <tr>\n",
       "      <th>0</th>\n",
       "      <td>0.345663</td>\n",
       "      <td>0.186916</td>\n",
       "      <td>0.079291</td>\n",
       "      <td>0.034177</td>\n",
       "      <td>5674</td>\n",
       "      <td>1976194036</td>\n",
       "      <td>763</td>\n",
       "      <td>414</td>\n",
       "      <td>1177</td>\n",
       "      <td>13979028</td>\n",
       "      <td>4</td>\n",
       "    </tr>\n",
       "    <tr>\n",
       "      <th>1</th>\n",
       "      <td>0.349166</td>\n",
       "      <td>0.183824</td>\n",
       "      <td>0.077651</td>\n",
       "      <td>0.033191</td>\n",
       "      <td>5539</td>\n",
       "      <td>1977327825</td>\n",
       "      <td>725</td>\n",
       "      <td>406</td>\n",
       "      <td>1131</td>\n",
       "      <td>13506194</td>\n",
       "      <td>4</td>\n",
       "    </tr>\n",
       "    <tr>\n",
       "      <th>2</th>\n",
       "      <td>0.345475</td>\n",
       "      <td>0.189153</td>\n",
       "      <td>0.080286</td>\n",
       "      <td>0.032014</td>\n",
       "      <td>5765</td>\n",
       "      <td>1987557951</td>\n",
       "      <td>687</td>\n",
       "      <td>405</td>\n",
       "      <td>1092</td>\n",
       "      <td>12880123</td>\n",
       "      <td>4</td>\n",
       "    </tr>\n",
       "    <tr>\n",
       "      <th>3</th>\n",
       "      <td>0.346643</td>\n",
       "      <td>0.182750</td>\n",
       "      <td>0.077771</td>\n",
       "      <td>0.032577</td>\n",
       "      <td>5639</td>\n",
       "      <td>1980234041</td>\n",
       "      <td>745</td>\n",
       "      <td>393</td>\n",
       "      <td>1138</td>\n",
       "      <td>13534679</td>\n",
       "      <td>4</td>\n",
       "    </tr>\n",
       "    <tr>\n",
       "      <th>4</th>\n",
       "      <td>0.343393</td>\n",
       "      <td>0.185834</td>\n",
       "      <td>0.080597</td>\n",
       "      <td>0.030944</td>\n",
       "      <td>5785</td>\n",
       "      <td>1986763877</td>\n",
       "      <td>677</td>\n",
       "      <td>399</td>\n",
       "      <td>1076</td>\n",
       "      <td>13112181</td>\n",
       "      <td>4</td>\n",
       "    </tr>\n",
       "  </tbody>\n",
       "</table>\n",
       "</div>"
      ],
      "text/plain": [
       "   Incidencia  Virulencia    P-hosp  Letalidad  Acumulado hosp       sDist  \\\n",
       "0    0.345663    0.186916  0.079291   0.034177            5674  1976194036   \n",
       "1    0.349166    0.183824  0.077651   0.033191            5539  1977327825   \n",
       "2    0.345475    0.189153  0.080286   0.032014            5765  1987557951   \n",
       "3    0.346643    0.182750  0.077771   0.032577            5639  1980234041   \n",
       "4    0.343393    0.185834  0.080597   0.030944            5785  1986763877   \n",
       "\n",
       "   N decesos infeccion  N decesos hosp  Acumulado defunciones      atpi  \\\n",
       "0                  763             414                   1177  13979028   \n",
       "1                  725             406                   1131  13506194   \n",
       "2                  687             405                   1092  12880123   \n",
       "3                  745             393                   1138  13534679   \n",
       "4                  677             399                   1076  13112181   \n",
       "\n",
       "   NvProp  \n",
       "0       4  \n",
       "1       4  \n",
       "2       4  \n",
       "3       4  \n",
       "4       4  "
      ]
     },
     "execution_count": 2,
     "metadata": {},
     "output_type": "execute_result"
    }
   ],
   "source": [
    "data = pd.read_csv(\"LOG-complete-clasificacion-nvprop-num.csv\")\n",
    "print(data.shape)\n",
    "data.head()\n"
   ]
  },
  {
   "cell_type": "markdown",
   "metadata": {},
   "source": [
    "#### II.2 Clases"
   ]
  },
  {
   "cell_type": "markdown",
   "metadata": {},
   "source": [
    "La variable respuesta es el Nivel de Propagación (```NvProp```) y, en este caso, las clases son numéricas, siendo:\n",
    "\n",
    "* **1: NvProp Bajo**\n",
    "* **2: NvProp Intermedio**\n",
    "* **3: NvProp Alto**\n",
    "* **4: NvProp Muy Alto**"
   ]
  },
  {
   "cell_type": "code",
   "execution_count": 8,
   "metadata": {},
   "outputs": [
    {
     "name": "stdout",
     "output_type": "stream",
     "text": [
      "Observaciones por Nivel de Propagación:\n",
      " 4    70\n",
      "3    70\n",
      "2    70\n",
      "1    70\n",
      "Name: NvProp, dtype: int64\n"
     ]
    }
   ],
   "source": [
    "print(\"Observaciones por Nivel de Propagación:\\n\", data['NvProp'].value_counts())"
   ]
  },
  {
   "cell_type": "code",
   "execution_count": 112,
   "metadata": {},
   "outputs": [
    {
     "name": "stdout",
     "output_type": "stream",
     "text": [
      "\n",
      "Las clases en este dataset son\n",
      "\n",
      "[1 2 3 4]\n",
      "\n",
      "Niveles de propagación\n"
     ]
    }
   ],
   "source": [
    "y = data.loc[:, ['NvProp']]\n",
    "print('\\n' + 'Las clases en este dataset son\\n\\n' + str(np.unique(y)))\n",
    "print('\\n' + 'Niveles de propagación')"
   ]
  },
  {
   "cell_type": "markdown",
   "metadata": {},
   "source": [
    "#### II.3 Variables\n",
    "\n",
    "Por su parte, en X se encuentran las variables epidemiológicas que estarán involucradas en el algoritmo de \n",
    "clasificación. Para su fácil selección, la tabla a cotinuación muestra en qué índice se encuentra cada variable. \n",
    "\n",
    "| Variable      | Índice |\n",
    "| --------------|--------|\n",
    "| Incidencia    |   0    |\n",
    "| Virulencia    |   1    |\n",
    "| P-hosp        |   2    |\n",
    "| Letalidad     |   3    |\n",
    "| Acumulado hosp|   4    | |\n",
    "| sDist         |   5    |\n",
    "| N decesos inf |   6    |\n",
    "| N decesos hosp|   7    |\n",
    "| Acumulado def |   8    |\n",
    "| atpi          |   9    |\n",
    "\n"
   ]
  },
  {
   "cell_type": "code",
   "execution_count": 113,
   "metadata": {},
   "outputs": [
    {
     "name": "stdout",
     "output_type": "stream",
     "text": [
      "(280, 2)\n"
     ]
    },
    {
     "data": {
      "text/html": [
       "<div>\n",
       "<style scoped>\n",
       "    .dataframe tbody tr th:only-of-type {\n",
       "        vertical-align: middle;\n",
       "    }\n",
       "\n",
       "    .dataframe tbody tr th {\n",
       "        vertical-align: top;\n",
       "    }\n",
       "\n",
       "    .dataframe thead th {\n",
       "        text-align: right;\n",
       "    }\n",
       "</style>\n",
       "<table border=\"1\" class=\"dataframe\">\n",
       "  <thead>\n",
       "    <tr style=\"text-align: right;\">\n",
       "      <th></th>\n",
       "      <th>sDist</th>\n",
       "      <th>Incidencia</th>\n",
       "    </tr>\n",
       "  </thead>\n",
       "  <tbody>\n",
       "    <tr>\n",
       "      <th>0</th>\n",
       "      <td>1976194036</td>\n",
       "      <td>0.345663</td>\n",
       "    </tr>\n",
       "    <tr>\n",
       "      <th>1</th>\n",
       "      <td>1977327825</td>\n",
       "      <td>0.349166</td>\n",
       "    </tr>\n",
       "    <tr>\n",
       "      <th>2</th>\n",
       "      <td>1987557951</td>\n",
       "      <td>0.345475</td>\n",
       "    </tr>\n",
       "    <tr>\n",
       "      <th>3</th>\n",
       "      <td>1980234041</td>\n",
       "      <td>0.346643</td>\n",
       "    </tr>\n",
       "    <tr>\n",
       "      <th>4</th>\n",
       "      <td>1986763877</td>\n",
       "      <td>0.343393</td>\n",
       "    </tr>\n",
       "  </tbody>\n",
       "</table>\n",
       "</div>"
      ],
      "text/plain": [
       "        sDist  Incidencia\n",
       "0  1976194036    0.345663\n",
       "1  1977327825    0.349166\n",
       "2  1987557951    0.345475\n",
       "3  1980234041    0.346643\n",
       "4  1986763877    0.343393"
      ]
     },
     "execution_count": 113,
     "metadata": {},
     "output_type": "execute_result"
    }
   ],
   "source": [
    "#en este caso, tomaremos los índices correspondientes a las variables\n",
    "# P-hosp, para el eje de las abscisas\n",
    "# Virulencia en el eje de las ordenadas\n",
    "# Establecer los valores de Ax y Ab para introducrilos cuando sea necesario obtener valores de X\n",
    "Ax = 5\n",
    "Ay = 0\n",
    "X = data.iloc[:, [Ax, Ay]]\n",
    "print(X.shape)\n",
    "X.head()\n"
   ]
  },
  {
   "cell_type": "code",
   "execution_count": 61,
   "metadata": {},
   "outputs": [],
   "source": [
    "# Generamos una función de visualización de datos\n",
    "# con una gráfica de dispersión\n",
    "def dispersion(X, y):\n",
    "    # Guardamos los nombres para los ejes\n",
    "    etiquetaX = X.columns[0]\n",
    "    etiquetaY = X.columns[1]\n",
    "    \n",
    "    # Luego, Ambas variables, las convertiremos a objetos de tipo arreglo de numpy\n",
    "    X = np.asarray(X)\n",
    "    y = y['NvProp'].values.tolist()\n",
    "    markers = ('o', '^', 'v', 'x')\n",
    "    colors = ('lightblue', 'lightgreen', 'yellow', 'red')\n",
    "    cmap = ListedColormap(colors[:len(np.unique(y))])\n",
    "    for idx, cl in enumerate(np.unique(y)):\n",
    "        plt.scatter(x=X[y == cl, 0], y=X[y == cl, 1], c=cmap(idx), marker=markers[idx], label=cl)\n",
    "        plt.xlabel('{}'.format(etiquetaX))\n",
    "        plt.ylabel('{}'.format(etiquetaY))\n",
    "        plt.title('Gráfica de dispersión')\n",
    "    plt.savefig('Clas_Disp_{0}-{1}.png'.format(etiquetaY, etiquetaX))"
   ]
  },
  {
   "cell_type": "code",
   "execution_count": 62,
   "metadata": {
    "scrolled": true
   },
   "outputs": [
    {
     "name": "stderr",
     "output_type": "stream",
     "text": [
      "*c* argument looks like a single numeric RGB or RGBA sequence, which should be avoided as value-mapping will have precedence in case its length matches with *x* & *y*.  Please use the *color* keyword-argument or provide a 2-D array with a single row if you intend to specify the same RGB or RGBA value for all points.\n",
      "*c* argument looks like a single numeric RGB or RGBA sequence, which should be avoided as value-mapping will have precedence in case its length matches with *x* & *y*.  Please use the *color* keyword-argument or provide a 2-D array with a single row if you intend to specify the same RGB or RGBA value for all points.\n",
      "*c* argument looks like a single numeric RGB or RGBA sequence, which should be avoided as value-mapping will have precedence in case its length matches with *x* & *y*.  Please use the *color* keyword-argument or provide a 2-D array with a single row if you intend to specify the same RGB or RGBA value for all points.\n",
      "*c* argument looks like a single numeric RGB or RGBA sequence, which should be avoided as value-mapping will have precedence in case its length matches with *x* & *y*.  Please use the *color* keyword-argument or provide a 2-D array with a single row if you intend to specify the same RGB or RGBA value for all points.\n"
     ]
    },
    {
     "data": {
      "image/png": "[encoded data removed]",
      "text/plain": [
       "<Figure size 720x432 with 1 Axes>"
      ]
     },
     "metadata": {
      "needs_background": "light"
     },
     "output_type": "display_data"
    }
   ],
   "source": [
    "dispersion(X,y)"
   ]
  },
  {
   "cell_type": "markdown",
   "metadata": {},
   "source": [
    "### III. Preparación de datos"
   ]
  },
  {
   "cell_type": "code",
   "execution_count": 63,
   "metadata": {},
   "outputs": [
    {
     "name": "stdout",
     "output_type": "stream",
     "text": [
      "(280, 2)\n"
     ]
    }
   ],
   "source": [
    "# Para el algoritmo SVM\n",
    "X_svm = X\n",
    "# Para el algoritmo kNN\n",
    "X_knn = X\n",
    "print(X_svm.shape)"
   ]
  },
  {
   "cell_type": "markdown",
   "metadata": {},
   "source": [
    "#### III.1 Conjuntos de entrenamiento y prueba. \n",
    "\n",
    "El tamaño del conjunto prueba es $1/3$ del dataset."
   ]
  },
  {
   "cell_type": "code",
   "execution_count": 66,
   "metadata": {},
   "outputs": [],
   "source": [
    "# Para el algoritmo SVM\n",
    "X_train_svm, X_test_svm, y_train_svm, y_test_svm = train_test_split(X_svm, y, test_size=0.33, random_state=0)\n",
    "# Para el algoritmo kNN\n",
    "X_train_knn, X_test_knn, y_train_knn, y_test_knn = train_test_split(X_knn, y, test_size=0.33, random_state=0)"
   ]
  },
  {
   "cell_type": "code",
   "execution_count": 67,
   "metadata": {},
   "outputs": [
    {
     "name": "stdout",
     "output_type": "stream",
     "text": [
      "----SVM-----\n",
      "Hay 187 muestras en el set de entrenamiento y 93 muestras en el set de prueba\n",
      "\n",
      "----kNN-----\n",
      "Hay 187 muestras en el set de entrenamiento y 93 muestras en el set de prueba\n"
     ]
    }
   ],
   "source": [
    "# Imprimimos el contenido de cada dataset\n",
    "#imprimimos el contenido de cada dataset\n",
    "print('----SVM-----')\n",
    "print('Hay {} muestras en el set de entrenamiento y {} muestras en el set de prueba'.format(\n",
    "X_train_svm.shape[0], X_test_svm.shape[0]))\n",
    "print('\\n----kNN-----')\n",
    "print('Hay {} muestras en el set de entrenamiento y {} muestras en el set de prueba'.format(\n",
    "X_train_knn.shape[0], X_test_knn.shape[0]))"
   ]
  },
  {
   "cell_type": "markdown",
   "metadata": {},
   "source": [
    "#### III.2 Escalamiento de características/variables (estandarización)"
   ]
  },
  {
   "cell_type": "code",
   "execution_count": 68,
   "metadata": {
    "scrolled": true
   },
   "outputs": [
    {
     "name": "stdout",
     "output_type": "stream",
     "text": [
      "Después de la estandarización de variables,\n",
      "el conjunto de entrenamiento se observa así:\n",
      "\n"
     ]
    },
    {
     "data": {
      "text/html": [
       "<div>\n",
       "<style scoped>\n",
       "    .dataframe tbody tr th:only-of-type {\n",
       "        vertical-align: middle;\n",
       "    }\n",
       "\n",
       "    .dataframe tbody tr th {\n",
       "        vertical-align: top;\n",
       "    }\n",
       "\n",
       "    .dataframe thead th {\n",
       "        text-align: right;\n",
       "    }\n",
       "</style>\n",
       "<table border=\"1\" class=\"dataframe\">\n",
       "  <thead>\n",
       "    <tr style=\"text-align: right;\">\n",
       "      <th></th>\n",
       "      <th>sDist</th>\n",
       "      <th>Incidencia</th>\n",
       "    </tr>\n",
       "  </thead>\n",
       "  <tbody>\n",
       "    <tr>\n",
       "      <th>0</th>\n",
       "      <td>-1.073047</td>\n",
       "      <td>0.813288</td>\n",
       "    </tr>\n",
       "    <tr>\n",
       "      <th>1</th>\n",
       "      <td>-1.183148</td>\n",
       "      <td>0.312721</td>\n",
       "    </tr>\n",
       "    <tr>\n",
       "      <th>2</th>\n",
       "      <td>1.030992</td>\n",
       "      <td>-0.057180</td>\n",
       "    </tr>\n",
       "    <tr>\n",
       "      <th>3</th>\n",
       "      <td>-1.177097</td>\n",
       "      <td>-0.015361</td>\n",
       "    </tr>\n",
       "    <tr>\n",
       "      <th>4</th>\n",
       "      <td>-0.941850</td>\n",
       "      <td>-0.442167</td>\n",
       "    </tr>\n",
       "  </tbody>\n",
       "</table>\n",
       "</div>"
      ],
      "text/plain": [
       "      sDist  Incidencia\n",
       "0 -1.073047    0.813288\n",
       "1 -1.183148    0.312721\n",
       "2  1.030992   -0.057180\n",
       "3 -1.177097   -0.015361\n",
       "4 -0.941850   -0.442167"
      ]
     },
     "execution_count": 68,
     "metadata": {},
     "output_type": "execute_result"
    }
   ],
   "source": [
    "sc = StandardScaler()\n",
    "sc_svm = sc.fit(X_train_svm)\n",
    "sc_knn = sc.fit(X_train_knn)\n",
    "\n",
    "'''Estandarización'''\n",
    "\n",
    "X_train_svm_std = sc_svm.transform(X_train_svm)\n",
    "X_test_svm_std = sc_svm.transform(X_test_svm)\n",
    "\n",
    "X_train_knn_std = sc_knn.transform(X_train_knn)\n",
    "X_test_knn_std = sc_knn.transform(X_test_knn)\n",
    "\n",
    "# Muestra los datos estandarizados\n",
    "print('Después de la estandarización de variables,\\nel conjunto de entrenamiento se observa así:\\n')\n",
    "pd.DataFrame(X_train_svm_std, columns = X.columns).head()"
   ]
  },
  {
   "cell_type": "markdown",
   "metadata": {},
   "source": [
    "### IV. Ejecución de clasificadores. \n",
    "\n",
    "Ejecuión de clasificadores sin optimizar. \n",
    "\n",
    "#### IV.1. Clasificador SVM (sin optimizar)."
   ]
  },
  {
   "cell_type": "code",
   "execution_count": 83,
   "metadata": {},
   "outputs": [
    {
     "name": "stdout",
     "output_type": "stream",
     "text": [
      "La precisión del clasificador SVM con los datos de entrenamiento, es 0.94 de 1\n",
      "La precisión del clasificador SVM con los datos de prueba, es 0.95 de 1\n"
     ]
    },
    {
     "name": "stderr",
     "output_type": "stream",
     "text": [
      "C:\\ProgramData\\Anaconda3\\lib\\site-packages\\sklearn\\utils\\validation.py:73: DataConversionWarning: A column-vector y was passed when a 1d array was expected. Please change the shape of y to (n_samples, ), for example using ravel().\n",
      "  return f(**kwargs)\n"
     ]
    }
   ],
   "source": [
    "#svm = SVC(kernel='rbf', random_state=0, gamma=.1, C=1.0) # 'rbf' = radial basis function\n",
    "##svm = SVC(kernel='linear', random_state=0, gamma=.1, C=1.0)\n",
    "svm = SVC(kernel='poly', random_state=0, gamma=.1, C=100)\n",
    "svm.fit(X_train_svm_std, y_train_svm)\n",
    "\n",
    "print('La precisión del clasificador SVM con los datos de entrenamiento, es {:.2f} de 1'.format(svm.score(X_train_svm_std, y_train_svm)))\n",
    "print('La precisión del clasificador SVM con los datos de prueba, es {:.2f} de 1'.format(svm.score(X_test_svm_std, y_test_svm)))"
   ]
  },
  {
   "cell_type": "markdown",
   "metadata": {},
   "source": [
    "####  IV.2. Visualización de las regiones de decisión. \n",
    "\n",
    "Creamos primero el algoritmo de visualización."
   ]
  },
  {
   "cell_type": "code",
   "execution_count": 84,
   "metadata": {},
   "outputs": [],
   "source": [
    "#import warnings \n",
    "\n",
    "def versiontuple(v):\n",
    "    return tuple(map(int, (v.split(\".\"))))\n",
    "\n",
    "\n",
    "def plot_decision_regions(X, y, classifier, test_idx=None, resolution=0.02):\n",
    "    # Guardamos los nombres para los ejes\n",
    "    print('Ingresa el nombre del eje X\\n')\n",
    "    etiquetaX = input()\n",
    "    print('\\nIngresa el nombre del eje Y\\n')\n",
    "    etiquetaY = input()\n",
    "    print('\\n¿Se ha optimizado el clasificador?\\n SI = 1\\n NO = 0')\n",
    "    #esto solo es para  efectuar el etiquetado correcto del nombre de la imagen\n",
    "    op = input()\n",
    "    \n",
    "    if str(type(classifier)) == \"<class 'sklearn.neighbors._classification.KNeighborsClassifier'>\" and op == '0':\n",
    "        name = \"kNN NON-Op\"\n",
    "    elif str(type(classifier)) == \"<class 'sklearn.svm._classes.SVC'>\" and op == '0':\n",
    "        name = \"SVM NON-Op\"\n",
    "    elif str(type(classifier)) == \"<class 'sklearn.neighbors._classification.KNeighborsClassifier'>\" and op == '1':\n",
    "        name = \"kNN OPT\"\n",
    "    elif str(type(classifier)) == \"<class 'sklearn.svm._classes.SVC'>\" and op == '1':\n",
    "        name = \"SVM OPT\"\n",
    "\n",
    "    #ambas variables, las convertiremos a objetos de tipo arreglo de numpy\n",
    "    X = np.asarray(X)\n",
    "    y = y['NvProp'].values.tolist()\n",
    "    \n",
    "    # setup marker generator and color map\n",
    "    #markers = ('s', 'x', 'o', '^', 'v')\n",
    "    #colors = ('red', 'yellow', 'lightgreen', 'lightblue', 'cyan')\n",
    "    markers = ('o', '^', 'v', 'x', 's')\n",
    "    colors = ('lightblue', 'lightgreen', 'yellow', 'red', 'cyan')\n",
    "    cmap = ListedColormap(colors[:len(np.unique(y))])\n",
    "\n",
    "    # plot the decision surface\n",
    "    x1_min, x1_max = X[:, 0].min() - 1, X[:, 0].max() + 1\n",
    "    x2_min, x2_max = X[:, 1].min() - 1, X[:, 1].max() + 1\n",
    "    xx1, xx2 = np.meshgrid(np.arange(x1_min, x1_max, resolution),\n",
    "                           np.arange(x2_min, x2_max, resolution))\n",
    "    Z = classifier.predict(np.array([xx1.ravel(), xx2.ravel()]).T)\n",
    "    Z = Z.reshape(xx1.shape)\n",
    "    plt.contourf(xx1, xx2, Z, alpha=0.4, cmap=cmap)\n",
    "    plt.xlim(xx1.min(), xx1.max())\n",
    "    plt.ylim(xx2.min(), xx2.max())\n",
    "    plt.xlabel('{0} [estandarizada]'.format(etiquetaX))\n",
    "    plt.ylabel('{0} [estandarizada]'.format(etiquetaY))\n",
    "    plt.title('{0}\\nRegión de decisión [estandarizada]'.format(name))\n",
    "\n",
    "    for idx, cl in enumerate(np.unique(y)):\n",
    "        plt.scatter(x=X[y == cl, 0], y=X[y == cl, 1],\n",
    "                    alpha=0.8, c=cmap(idx),\n",
    "                    marker=markers[idx], label=cl)\n",
    "    filelabel = \"_{0}-{1}\".format(etiquetaY, etiquetaX)\n",
    "    plt.savefig(\"RES_{0}_{1}.png\".format(name, filelabel))\n",
    "    #print(\"----IMPORTANTE----\\nRevise la carpeta destino de la figura guardada\\npara modificar manualmente el nombre y evitar que se sobreescriba.\")"
   ]
  },
  {
   "cell_type": "code",
   "execution_count": 86,
   "metadata": {},
   "outputs": [
    {
     "name": "stdout",
     "output_type": "stream",
     "text": [
      "Ingresa el nombre del eje X\n",
      "\n",
      "sDist\n",
      "\n",
      "Ingresa el nombre del eje Y\n",
      "\n",
      "Incidencia\n",
      "\n",
      "¿Se ha optimizado el clasificador?\n",
      " SI = 1\n",
      " NO = 0\n",
      "1\n"
     ]
    },
    {
     "name": "stderr",
     "output_type": "stream",
     "text": [
      "*c* argument looks like a single numeric RGB or RGBA sequence, which should be avoided as value-mapping will have precedence in case its length matches with *x* & *y*.  Please use the *color* keyword-argument or provide a 2-D array with a single row if you intend to specify the same RGB or RGBA value for all points.\n",
      "*c* argument looks like a single numeric RGB or RGBA sequence, which should be avoided as value-mapping will have precedence in case its length matches with *x* & *y*.  Please use the *color* keyword-argument or provide a 2-D array with a single row if you intend to specify the same RGB or RGBA value for all points.\n",
      "*c* argument looks like a single numeric RGB or RGBA sequence, which should be avoided as value-mapping will have precedence in case its length matches with *x* & *y*.  Please use the *color* keyword-argument or provide a 2-D array with a single row if you intend to specify the same RGB or RGBA value for all points.\n",
      "*c* argument looks like a single numeric RGB or RGBA sequence, which should be avoided as value-mapping will have precedence in case its length matches with *x* & *y*.  Please use the *color* keyword-argument or provide a 2-D array with a single row if you intend to specify the same RGB or RGBA value for all points.\n"
     ]
    },
    {
     "data": {
      "image/png": "[encoded data removed]",
      "text/plain": [
       "<Figure size 720x432 with 1 Axes>"
      ]
     },
     "metadata": {
      "needs_background": "light"
     },
     "output_type": "display_data"
    }
   ],
   "source": [
    "# graficamos las regiones de decisión para el clasificador SVM\n",
    "# sin optimización\n",
    "plot_decision_regions(X_test_svm_std, y_test_svm, svm)"
   ]
  },
  {
   "cell_type": "markdown",
   "metadata": {},
   "source": [
    "#### IV.3. Clasificador kNN (sin optimizar)."
   ]
  },
  {
   "cell_type": "code",
   "execution_count": 98,
   "metadata": {},
   "outputs": [
    {
     "name": "stdout",
     "output_type": "stream",
     "text": [
      "La precisión del clasificador kNN es 0.95 de 1 en el set de entrenamiento\n",
      "La precisión del clasificador kNN es 0.96 de 1 en el set de prueba\n"
     ]
    },
    {
     "name": "stderr",
     "output_type": "stream",
     "text": [
      "C:\\ProgramData\\Anaconda3\\lib\\site-packages\\ipykernel_launcher.py:2: DataConversionWarning: A column-vector y was passed when a 1d array was expected. Please change the shape of y to (n_samples, ), for example using ravel().\n",
      "  \n"
     ]
    }
   ],
   "source": [
    "knn = KNeighborsClassifier(n_neighbors=6, metric='minkowski')\n",
    "knn.fit(X_train_knn_std, y_train_knn)\n",
    "\n",
    "print('La precisión del clasificador kNN es {:.2f} de 1 en el set de entrenamiento'.format(knn.score(X_train_knn_std, y_train_knn)))\n",
    "print('La precisión del clasificador kNN es {:.2f} de 1 en el set de prueba'.format(knn.score(X_test_knn_std, y_test_knn)))"
   ]
  },
  {
   "cell_type": "markdown",
   "metadata": {},
   "source": [
    "Visualización de las regiones de decisión"
   ]
  },
  {
   "cell_type": "code",
   "execution_count": 99,
   "metadata": {
    "scrolled": true
   },
   "outputs": [
    {
     "name": "stdout",
     "output_type": "stream",
     "text": [
      "Ingresa el nombre del eje X\n",
      "\n",
      "sDist\n",
      "\n",
      "Ingresa el nombre del eje Y\n",
      "\n",
      "Incidencia\n",
      "\n",
      "¿Se ha optimizado el clasificador?\n",
      " SI = 1\n",
      " NO = 0\n",
      "1\n"
     ]
    },
    {
     "name": "stderr",
     "output_type": "stream",
     "text": [
      "*c* argument looks like a single numeric RGB or RGBA sequence, which should be avoided as value-mapping will have precedence in case its length matches with *x* & *y*.  Please use the *color* keyword-argument or provide a 2-D array with a single row if you intend to specify the same RGB or RGBA value for all points.\n",
      "*c* argument looks like a single numeric RGB or RGBA sequence, which should be avoided as value-mapping will have precedence in case its length matches with *x* & *y*.  Please use the *color* keyword-argument or provide a 2-D array with a single row if you intend to specify the same RGB or RGBA value for all points.\n",
      "*c* argument looks like a single numeric RGB or RGBA sequence, which should be avoided as value-mapping will have precedence in case its length matches with *x* & *y*.  Please use the *color* keyword-argument or provide a 2-D array with a single row if you intend to specify the same RGB or RGBA value for all points.\n",
      "*c* argument looks like a single numeric RGB or RGBA sequence, which should be avoided as value-mapping will have precedence in case its length matches with *x* & *y*.  Please use the *color* keyword-argument or provide a 2-D array with a single row if you intend to specify the same RGB or RGBA value for all points.\n"
     ]
    },
    {
     "data": {
      "image/png": "[encoded data removed]",
      "text/plain": [
       "<Figure size 720x432 with 1 Axes>"
      ]
     },
     "metadata": {
      "needs_background": "light"
     },
     "output_type": "display_data"
    }
   ],
   "source": [
    "plot_decision_regions(X_test_knn_std, y_test_knn, knn)"
   ]
  },
  {
   "cell_type": "markdown",
   "metadata": {},
   "source": [
    "#### IV.4. Matrices de confusión. "
   ]
  },
  {
   "cell_type": "code",
   "execution_count": 100,
   "metadata": {},
   "outputs": [],
   "source": [
    "def confusion(X_train_svm_std, y_train_svm, X_test_svm_std, y_test_svm, X_train_knn_std, y_train_knn, X_test_knn_std, y_test_knn, cl1, cl2):\n",
    "    \n",
    "    # Guardamos los nombres para los ejes\n",
    "    print('Ingresa el nombre del eje X\\n')\n",
    "    etX = input()\n",
    "    print('\\nIngresa el nombre del eje Y\\n')\n",
    "    etY = input()\n",
    "    print('\\n¿Se ha optimizado el clasificador?\\n SI = 1\\n NO = 0')\n",
    "    #esto solo es para  efectuar el etiquetado correcto del nombre de la imagen\n",
    "    op = input()\n",
    "    \n",
    "    if op == '0':\n",
    "        tipo_op = '\\nAlgoritmos NO optimizados'\n",
    "        t_op = 'NONOp'\n",
    "    elif op == '1':\n",
    "        tipo_op = '\\nAlgoritmos Optimizados'\n",
    "        t_op = 'Opt'\n",
    "    \n",
    "    filelbl = '{0}_{1}-{2}'.format(t_op, etY, etX)\n",
    "    \n",
    "    c_svm = cl1.fit(X_train_svm_std, y_train_svm)\n",
    "    svm_cm=confusion_matrix(y_test_svm, c_svm.predict(X_test_svm_std))\n",
    "\n",
    "    c_knn = cl2.fit(X_train_knn_std, y_train_knn)\n",
    "    knn_cm=confusion_matrix(y_test_knn, c_knn.predict(X_test_svm_std))\n",
    "    \n",
    "    plt.figure(figsize=(15,6))\n",
    "    plt.suptitle(\"Matrices de confusión {0}\".format(tipo_op),fontsize=12)\n",
    "\n",
    "    ax1 = plt.subplot(1,2,1)\n",
    "    plt.title(\"SVM para {0} - {1}\".format(etY, etX))\n",
    "    ax1.set_xlabel('Predicted labels');ax1.set_ylabel('True labels'); \n",
    "    ax1.xaxis.set_ticklabels(['Bajo', 'Intermedio', 'Alto', 'Muy Alto']); ax1.yaxis.set_ticklabels(['Bajo', 'Intermedio', 'Alto', 'Muy Alto']);\n",
    "    sns.heatmap(svm_cm, annot = True, cmap=\"Greens\",cbar=False);\n",
    "\n",
    "    ax2 = plt.subplot(1,2,2)\n",
    "    ax2.set_xlabel('Predicted labels');ax2.set_ylabel('True labels'); \n",
    "    ax2.xaxis.set_ticklabels(['Bajo', 'Intermedio', 'Alto', 'Muy Alto']); ax2.yaxis.set_ticklabels(['Bajo', 'Intermedio', 'Alto', 'Muy Alto']);\n",
    "    plt.title(\"k-NN para {0} - {1}\".format(etY, etX))\n",
    "    sns.heatmap(knn_cm, annot = True, cmap=\"Blues\",cbar=False);\n",
    "    \n",
    "    plt.savefig('RES_ConfMatrix-{0}.png'.format(filelbl))"
   ]
  },
  {
   "cell_type": "code",
   "execution_count": 101,
   "metadata": {},
   "outputs": [
    {
     "name": "stdout",
     "output_type": "stream",
     "text": [
      "Ingresa el nombre del eje X\n",
      "\n",
      "sDist\n",
      "\n",
      "Ingresa el nombre del eje Y\n",
      "\n",
      "Incidencia\n",
      "\n",
      "¿Se ha optimizado el clasificador?\n",
      " SI = 1\n",
      " NO = 0\n",
      "1\n"
     ]
    },
    {
     "name": "stderr",
     "output_type": "stream",
     "text": [
      "C:\\ProgramData\\Anaconda3\\lib\\site-packages\\sklearn\\utils\\validation.py:73: DataConversionWarning: A column-vector y was passed when a 1d array was expected. Please change the shape of y to (n_samples, ), for example using ravel().\n",
      "  return f(**kwargs)\n",
      "C:\\ProgramData\\Anaconda3\\lib\\site-packages\\ipykernel_launcher.py:24: DataConversionWarning: A column-vector y was passed when a 1d array was expected. Please change the shape of y to (n_samples, ), for example using ravel().\n"
     ]
    },
    {
     "data": {
      "image/png": "[encoded data removed]",
      "text/plain": [
       "<Figure size 1080x432 with 2 Axes>"
      ]
     },
     "metadata": {
      "needs_background": "light"
     },
     "output_type": "display_data"
    }
   ],
   "source": [
    "# generamos la matriz de confusión.\n",
    "confusion(X_train_svm_std, y_train_svm, X_test_svm_std, y_test_svm, X_train_knn_std, y_train_knn, X_test_knn_std, y_test_knn, svm, knn)"
   ]
  },
  {
   "cell_type": "markdown",
   "metadata": {},
   "source": [
    "Regiones de decisión"
   ]
  },
  {
   "cell_type": "markdown",
   "metadata": {},
   "source": [
    "#### V.2. Clasificador kNN (Optimizado).\n",
    "\n",
    "Una forma de optimizar, es a partir de encontrar únicamente el número de vecinos k que determine la mejor precisión del clasificador,"
   ]
  },
  {
   "cell_type": "code",
   "execution_count": 79,
   "metadata": {
    "scrolled": true
   },
   "outputs": [
    {
     "name": "stderr",
     "output_type": "stream",
     "text": [
      "C:\\ProgramData\\Anaconda3\\lib\\site-packages\\ipykernel_launcher.py:9: DataConversionWarning: A column-vector y was passed when a 1d array was expected. Please change the shape of y to (n_samples, ), for example using ravel().\n",
      "  if __name__ == '__main__':\n",
      "C:\\ProgramData\\Anaconda3\\lib\\site-packages\\ipykernel_launcher.py:9: DataConversionWarning: A column-vector y was passed when a 1d array was expected. Please change the shape of y to (n_samples, ), for example using ravel().\n",
      "  if __name__ == '__main__':\n",
      "C:\\ProgramData\\Anaconda3\\lib\\site-packages\\ipykernel_launcher.py:9: DataConversionWarning: A column-vector y was passed when a 1d array was expected. Please change the shape of y to (n_samples, ), for example using ravel().\n",
      "  if __name__ == '__main__':\n",
      "C:\\ProgramData\\Anaconda3\\lib\\site-packages\\ipykernel_launcher.py:9: DataConversionWarning: A column-vector y was passed when a 1d array was expected. Please change the shape of y to (n_samples, ), for example using ravel().\n",
      "  if __name__ == '__main__':\n",
      "C:\\ProgramData\\Anaconda3\\lib\\site-packages\\ipykernel_launcher.py:9: DataConversionWarning: A column-vector y was passed when a 1d array was expected. Please change the shape of y to (n_samples, ), for example using ravel().\n",
      "  if __name__ == '__main__':\n",
      "C:\\ProgramData\\Anaconda3\\lib\\site-packages\\ipykernel_launcher.py:9: DataConversionWarning: A column-vector y was passed when a 1d array was expected. Please change the shape of y to (n_samples, ), for example using ravel().\n",
      "  if __name__ == '__main__':\n",
      "C:\\ProgramData\\Anaconda3\\lib\\site-packages\\ipykernel_launcher.py:9: DataConversionWarning: A column-vector y was passed when a 1d array was expected. Please change the shape of y to (n_samples, ), for example using ravel().\n",
      "  if __name__ == '__main__':\n",
      "C:\\ProgramData\\Anaconda3\\lib\\site-packages\\ipykernel_launcher.py:9: DataConversionWarning: A column-vector y was passed when a 1d array was expected. Please change the shape of y to (n_samples, ), for example using ravel().\n",
      "  if __name__ == '__main__':\n",
      "C:\\ProgramData\\Anaconda3\\lib\\site-packages\\ipykernel_launcher.py:9: DataConversionWarning: A column-vector y was passed when a 1d array was expected. Please change the shape of y to (n_samples, ), for example using ravel().\n",
      "  if __name__ == '__main__':\n",
      "C:\\ProgramData\\Anaconda3\\lib\\site-packages\\ipykernel_launcher.py:9: DataConversionWarning: A column-vector y was passed when a 1d array was expected. Please change the shape of y to (n_samples, ), for example using ravel().\n",
      "  if __name__ == '__main__':\n",
      "C:\\ProgramData\\Anaconda3\\lib\\site-packages\\ipykernel_launcher.py:9: DataConversionWarning: A column-vector y was passed when a 1d array was expected. Please change the shape of y to (n_samples, ), for example using ravel().\n",
      "  if __name__ == '__main__':\n"
     ]
    },
    {
     "data": {
      "image/png": "[encoded data removed]",
      "text/plain": [
       "<Figure size 720x432 with 1 Axes>"
      ]
     },
     "metadata": {
      "needs_background": "light"
     },
     "output_type": "display_data"
    }
   ],
   "source": [
    "# determinar cuál es el mejor valor de n\n",
    "\n",
    "k_range = list(range(1,12)) #creamos una lista con 26 valores posibles para k\n",
    "scores = [] #una variable vacía para almacenar \n",
    "\n",
    "for k in k_range:\n",
    "    #knn = KNeighborsClassifier(n_neighbors=k)\n",
    "    knn = KNeighborsClassifier(n_neighbors=k, p=2, metric='minkowski')\n",
    "    knn.fit(X, y)\n",
    "    y_pred = knn.predict(X)\n",
    "    #scores.append(metrics.accuracy_score(y, y_pred))\n",
    "    scores.append(metrics.accuracy_score(y, y_pred))\n",
    "    \n",
    "plt.plot(k_range, scores)\n",
    "plt.xlabel('Valor de k para KNN')\n",
    "plt.ylabel('Exactitud')\n",
    "plt.title('Exactitud de kNN como función del valor de k vecinos')\n",
    "plt.show()"
   ]
  },
  {
   "cell_type": "markdown",
   "metadata": {},
   "source": [
    "### VI. Predicción. "
   ]
  },
  {
   "cell_type": "markdown",
   "metadata": {},
   "source": [
    "El dataset es el archivo de ```LOG-X.csv``` "
   ]
  },
  {
   "cell_type": "code",
   "execution_count": 107,
   "metadata": {},
   "outputs": [
    {
     "name": "stdout",
     "output_type": "stream",
     "text": [
      "(54, 11)\n"
     ]
    },
    {
     "data": {
      "text/html": [
       "<div>\n",
       "<style scoped>\n",
       "    .dataframe tbody tr th:only-of-type {\n",
       "        vertical-align: middle;\n",
       "    }\n",
       "\n",
       "    .dataframe tbody tr th {\n",
       "        vertical-align: top;\n",
       "    }\n",
       "\n",
       "    .dataframe thead th {\n",
       "        text-align: right;\n",
       "    }\n",
       "</style>\n",
       "<table border=\"1\" class=\"dataframe\">\n",
       "  <thead>\n",
       "    <tr style=\"text-align: right;\">\n",
       "      <th></th>\n",
       "      <th>Incidencia</th>\n",
       "      <th>Virulencia</th>\n",
       "      <th>P-hosp</th>\n",
       "      <th>Letalidad</th>\n",
       "      <th>Acumulado hosp</th>\n",
       "      <th>sDist</th>\n",
       "      <th>N decesos infección</th>\n",
       "      <th>N decesos hosp</th>\n",
       "      <th>Acumulado defunciones</th>\n",
       "      <th>atpi</th>\n",
       "      <th>NvProp</th>\n",
       "    </tr>\n",
       "  </thead>\n",
       "  <tbody>\n",
       "    <tr>\n",
       "      <th>0</th>\n",
       "      <td>0.339748</td>\n",
       "      <td>0.193426</td>\n",
       "      <td>0.078240</td>\n",
       "      <td>0.034210</td>\n",
       "      <td>4096</td>\n",
       "      <td>1840276193</td>\n",
       "      <td>529</td>\n",
       "      <td>289</td>\n",
       "      <td>818</td>\n",
       "      <td>44821120</td>\n",
       "      <td>X</td>\n",
       "    </tr>\n",
       "    <tr>\n",
       "      <th>1</th>\n",
       "      <td>0.343153</td>\n",
       "      <td>0.190718</td>\n",
       "      <td>0.077038</td>\n",
       "      <td>0.034611</td>\n",
       "      <td>4228</td>\n",
       "      <td>1839781439</td>\n",
       "      <td>588</td>\n",
       "      <td>286</td>\n",
       "      <td>874</td>\n",
       "      <td>45500559</td>\n",
       "      <td>X</td>\n",
       "    </tr>\n",
       "    <tr>\n",
       "      <th>2</th>\n",
       "      <td>0.343396</td>\n",
       "      <td>0.188678</td>\n",
       "      <td>0.076523</td>\n",
       "      <td>0.032796</td>\n",
       "      <td>4151</td>\n",
       "      <td>1841055679</td>\n",
       "      <td>532</td>\n",
       "      <td>282</td>\n",
       "      <td>814</td>\n",
       "      <td>45439954</td>\n",
       "      <td>X</td>\n",
       "    </tr>\n",
       "    <tr>\n",
       "      <th>3</th>\n",
       "      <td>0.341585</td>\n",
       "      <td>0.188153</td>\n",
       "      <td>0.075349</td>\n",
       "      <td>0.033471</td>\n",
       "      <td>3924</td>\n",
       "      <td>1846273222</td>\n",
       "      <td>545</td>\n",
       "      <td>250</td>\n",
       "      <td>795</td>\n",
       "      <td>43598534</td>\n",
       "      <td>X</td>\n",
       "    </tr>\n",
       "    <tr>\n",
       "      <th>4</th>\n",
       "      <td>0.344792</td>\n",
       "      <td>0.188248</td>\n",
       "      <td>0.076420</td>\n",
       "      <td>0.032690</td>\n",
       "      <td>4034</td>\n",
       "      <td>1843685285</td>\n",
       "      <td>544</td>\n",
       "      <td>251</td>\n",
       "      <td>795</td>\n",
       "      <td>43864192</td>\n",
       "      <td>X</td>\n",
       "    </tr>\n",
       "  </tbody>\n",
       "</table>\n",
       "</div>"
      ],
      "text/plain": [
       "   Incidencia  Virulencia    P-hosp  Letalidad  Acumulado hosp       sDist  \\\n",
       "0    0.339748    0.193426  0.078240   0.034210            4096  1840276193   \n",
       "1    0.343153    0.190718  0.077038   0.034611            4228  1839781439   \n",
       "2    0.343396    0.188678  0.076523   0.032796            4151  1841055679   \n",
       "3    0.341585    0.188153  0.075349   0.033471            3924  1846273222   \n",
       "4    0.344792    0.188248  0.076420   0.032690            4034  1843685285   \n",
       "\n",
       "   N decesos infección  N decesos hosp  Acumulado defunciones      atpi NvProp  \n",
       "0                  529             289                    818  44821120      X  \n",
       "1                  588             286                    874  45500559      X  \n",
       "2                  532             282                    814  45439954      X  \n",
       "3                  545             250                    795  43598534      X  \n",
       "4                  544             251                    795  43864192      X  "
      ]
     },
     "execution_count": 107,
     "metadata": {},
     "output_type": "execute_result"
    }
   ],
   "source": [
    "data_v = pd.read_csv(\"LOG-X-clasificacion.csv\")\n",
    "print(data_v.shape)\n",
    "data_v.head()\n"
   ]
  },
  {
   "cell_type": "markdown",
   "metadata": {},
   "source": [
    "Seleccionamos las variables con las que efectuaremos la predicción. "
   ]
  },
  {
   "cell_type": "code",
   "execution_count": 108,
   "metadata": {},
   "outputs": [
    {
     "name": "stdout",
     "output_type": "stream",
     "text": [
      "(54, 2)\n"
     ]
    },
    {
     "data": {
      "text/html": [
       "<div>\n",
       "<style scoped>\n",
       "    .dataframe tbody tr th:only-of-type {\n",
       "        vertical-align: middle;\n",
       "    }\n",
       "\n",
       "    .dataframe tbody tr th {\n",
       "        vertical-align: top;\n",
       "    }\n",
       "\n",
       "    .dataframe thead th {\n",
       "        text-align: right;\n",
       "    }\n",
       "</style>\n",
       "<table border=\"1\" class=\"dataframe\">\n",
       "  <thead>\n",
       "    <tr style=\"text-align: right;\">\n",
       "      <th></th>\n",
       "      <th>sDist</th>\n",
       "      <th>Incidencia</th>\n",
       "    </tr>\n",
       "  </thead>\n",
       "  <tbody>\n",
       "    <tr>\n",
       "      <th>0</th>\n",
       "      <td>1840276193</td>\n",
       "      <td>0.339748</td>\n",
       "    </tr>\n",
       "    <tr>\n",
       "      <th>1</th>\n",
       "      <td>1839781439</td>\n",
       "      <td>0.343153</td>\n",
       "    </tr>\n",
       "    <tr>\n",
       "      <th>2</th>\n",
       "      <td>1841055679</td>\n",
       "      <td>0.343396</td>\n",
       "    </tr>\n",
       "    <tr>\n",
       "      <th>3</th>\n",
       "      <td>1846273222</td>\n",
       "      <td>0.341585</td>\n",
       "    </tr>\n",
       "    <tr>\n",
       "      <th>4</th>\n",
       "      <td>1843685285</td>\n",
       "      <td>0.344792</td>\n",
       "    </tr>\n",
       "  </tbody>\n",
       "</table>\n",
       "</div>"
      ],
      "text/plain": [
       "        sDist  Incidencia\n",
       "0  1840276193    0.339748\n",
       "1  1839781439    0.343153\n",
       "2  1841055679    0.343396\n",
       "3  1846273222    0.341585\n",
       "4  1843685285    0.344792"
      ]
     },
     "execution_count": 108,
     "metadata": {},
     "output_type": "execute_result"
    }
   ],
   "source": [
    "Pred = data_v.iloc[:, [Ax, Ay]]\n",
    "#X_pred.to_csv(\"X_pred.csv\")\n",
    "print(Pred.shape)\n",
    "Pred.head()"
   ]
  },
  {
   "cell_type": "markdown",
   "metadata": {},
   "source": [
    "Determinemos las estadísticas de los parámetros de interés. "
   ]
  },
  {
   "cell_type": "code",
   "execution_count": 53,
   "metadata": {},
   "outputs": [
    {
     "data": {
      "text/html": [
       "<div>\n",
       "<style scoped>\n",
       "    .dataframe tbody tr th:only-of-type {\n",
       "        vertical-align: middle;\n",
       "    }\n",
       "\n",
       "    .dataframe tbody tr th {\n",
       "        vertical-align: top;\n",
       "    }\n",
       "\n",
       "    .dataframe thead th {\n",
       "        text-align: right;\n",
       "    }\n",
       "</style>\n",
       "<table border=\"1\" class=\"dataframe\">\n",
       "  <thead>\n",
       "    <tr style=\"text-align: right;\">\n",
       "      <th></th>\n",
       "      <th>sDist</th>\n",
       "      <th>Incidencia</th>\n",
       "    </tr>\n",
       "  </thead>\n",
       "  <tbody>\n",
       "    <tr>\n",
       "      <th>count</th>\n",
       "      <td>5.400000e+01</td>\n",
       "      <td>54.000000</td>\n",
       "    </tr>\n",
       "    <tr>\n",
       "      <th>mean</th>\n",
       "      <td>1.841842e+09</td>\n",
       "      <td>0.343084</td>\n",
       "    </tr>\n",
       "    <tr>\n",
       "      <th>std</th>\n",
       "      <td>3.180396e+06</td>\n",
       "      <td>0.001710</td>\n",
       "    </tr>\n",
       "    <tr>\n",
       "      <th>min</th>\n",
       "      <td>1.833720e+09</td>\n",
       "      <td>0.339483</td>\n",
       "    </tr>\n",
       "    <tr>\n",
       "      <th>25%</th>\n",
       "      <td>1.840122e+09</td>\n",
       "      <td>0.341566</td>\n",
       "    </tr>\n",
       "    <tr>\n",
       "      <th>50%</th>\n",
       "      <td>1.841312e+09</td>\n",
       "      <td>0.343298</td>\n",
       "    </tr>\n",
       "    <tr>\n",
       "      <th>75%</th>\n",
       "      <td>1.843888e+09</td>\n",
       "      <td>0.344407</td>\n",
       "    </tr>\n",
       "    <tr>\n",
       "      <th>max</th>\n",
       "      <td>1.850257e+09</td>\n",
       "      <td>0.346022</td>\n",
       "    </tr>\n",
       "  </tbody>\n",
       "</table>\n",
       "</div>"
      ],
      "text/plain": [
       "              sDist  Incidencia\n",
       "count  5.400000e+01   54.000000\n",
       "mean   1.841842e+09    0.343084\n",
       "std    3.180396e+06    0.001710\n",
       "min    1.833720e+09    0.339483\n",
       "25%    1.840122e+09    0.341566\n",
       "50%    1.841312e+09    0.343298\n",
       "75%    1.843888e+09    0.344407\n",
       "max    1.850257e+09    0.346022"
      ]
     },
     "execution_count": 53,
     "metadata": {},
     "output_type": "execute_result"
    }
   ],
   "source": [
    "# para las variables crudas\n",
    "a = Pred.describe()\n",
    "a"
   ]
  },
  {
   "cell_type": "code",
   "execution_count": 54,
   "metadata": {},
   "outputs": [
    {
     "data": {
      "text/html": [
       "<div>\n",
       "<style scoped>\n",
       "    .dataframe tbody tr th:only-of-type {\n",
       "        vertical-align: middle;\n",
       "    }\n",
       "\n",
       "    .dataframe tbody tr th {\n",
       "        vertical-align: top;\n",
       "    }\n",
       "\n",
       "    .dataframe thead th {\n",
       "        text-align: right;\n",
       "    }\n",
       "</style>\n",
       "<table border=\"1\" class=\"dataframe\">\n",
       "  <thead>\n",
       "    <tr style=\"text-align: right;\">\n",
       "      <th></th>\n",
       "      <th>sDist</th>\n",
       "      <th>Incidencia</th>\n",
       "    </tr>\n",
       "  </thead>\n",
       "  <tbody>\n",
       "    <tr>\n",
       "      <th>50%</th>\n",
       "      <td>1.841312e+09</td>\n",
       "      <td>0.343298</td>\n",
       "    </tr>\n",
       "  </tbody>\n",
       "</table>\n",
       "</div>"
      ],
      "text/plain": [
       "            sDist  Incidencia\n",
       "50%  1.841312e+09    0.343298"
      ]
     },
     "execution_count": 54,
     "metadata": {},
     "output_type": "execute_result"
    }
   ],
   "source": [
    "P = a.iloc[[5], :]\n",
    "P"
   ]
  },
  {
   "cell_type": "markdown",
   "metadata": {},
   "source": [
    "c) **Con la mediana (cuartil 50%) como *medida resumen* datos crudos**"
   ]
  },
  {
   "cell_type": "code",
   "execution_count": 55,
   "metadata": {},
   "outputs": [
    {
     "data": {
      "text/html": [
       "<div>\n",
       "<style scoped>\n",
       "    .dataframe tbody tr th:only-of-type {\n",
       "        vertical-align: middle;\n",
       "    }\n",
       "\n",
       "    .dataframe tbody tr th {\n",
       "        vertical-align: top;\n",
       "    }\n",
       "\n",
       "    .dataframe thead th {\n",
       "        text-align: right;\n",
       "    }\n",
       "</style>\n",
       "<table border=\"1\" class=\"dataframe\">\n",
       "  <thead>\n",
       "    <tr style=\"text-align: right;\">\n",
       "      <th></th>\n",
       "      <th>sDist</th>\n",
       "      <th>P-hosp</th>\n",
       "    </tr>\n",
       "  </thead>\n",
       "  <tbody>\n",
       "    <tr>\n",
       "      <th>0</th>\n",
       "      <td>1.841312e+09</td>\n",
       "      <td>0.343298</td>\n",
       "    </tr>\n",
       "  </tbody>\n",
       "</table>\n",
       "</div>"
      ],
      "text/plain": [
       "          sDist    P-hosp\n",
       "0  1.841312e+09  0.343298"
      ]
     },
     "execution_count": 55,
     "metadata": {},
     "output_type": "execute_result"
    }
   ],
   "source": [
    "X_pred_res = pd.DataFrame(columns=[\"sDist\", \"P-hosp\"], data=[[1.841312e+09, 0.343298]])\n",
    "X_pred_res"
   ]
  },
  {
   "cell_type": "code",
   "execution_count": 103,
   "metadata": {},
   "outputs": [
    {
     "data": {
      "text/plain": [
       "array([4], dtype=int64)"
      ]
     },
     "execution_count": 103,
     "metadata": {},
     "output_type": "execute_result"
    }
   ],
   "source": [
    "# usando KNN\n",
    "knn.predict(X_pred_res)"
   ]
  },
  {
   "cell_type": "code",
   "execution_count": 102,
   "metadata": {},
   "outputs": [
    {
     "data": {
      "text/plain": [
       "array([4], dtype=int64)"
      ]
     },
     "execution_count": 102,
     "metadata": {},
     "output_type": "execute_result"
    }
   ],
   "source": [
    "# usando svm\n",
    "svm.predict(X_pred_res)"
   ]
  },
  {
   "cell_type": "markdown",
   "metadata": {},
   "source": [
    "d) **Con la mediana (cuartil 50%) como *medida resumen* datos escalados**"
   ]
  },
  {
   "cell_type": "code",
   "execution_count": 109,
   "metadata": {},
   "outputs": [
    {
     "name": "stdout",
     "output_type": "stream",
     "text": [
      "Después de la estandarización de variables,\n",
      "el conjunto de validación/predicción observa así:\n",
      "\n"
     ]
    },
    {
     "data": {
      "text/html": [
       "<div>\n",
       "<style scoped>\n",
       "    .dataframe tbody tr th:only-of-type {\n",
       "        vertical-align: middle;\n",
       "    }\n",
       "\n",
       "    .dataframe tbody tr th {\n",
       "        vertical-align: top;\n",
       "    }\n",
       "\n",
       "    .dataframe thead th {\n",
       "        text-align: right;\n",
       "    }\n",
       "</style>\n",
       "<table border=\"1\" class=\"dataframe\">\n",
       "  <thead>\n",
       "    <tr style=\"text-align: right;\">\n",
       "      <th></th>\n",
       "      <th>sDist</th>\n",
       "      <th>Incidencia</th>\n",
       "    </tr>\n",
       "  </thead>\n",
       "  <tbody>\n",
       "    <tr>\n",
       "      <th>50%</th>\n",
       "      <td>-0.167969</td>\n",
       "      <td>0.125776</td>\n",
       "    </tr>\n",
       "  </tbody>\n",
       "</table>\n",
       "</div>"
      ],
      "text/plain": [
       "        sDist  Incidencia\n",
       "50% -0.167969    0.125776"
      ]
     },
     "execution_count": 109,
     "metadata": {},
     "output_type": "execute_result"
    }
   ],
   "source": [
    "stc = StandardScaler()\n",
    "sc_pred = stc.fit(Pred)\n",
    "\n",
    "'''Estandarización'''\n",
    "\n",
    "X_pred_std = sc_pred.transform(Pred)\n",
    "\n",
    "\n",
    "# Muestra los datos estandarizados\n",
    "print('Después de la estandarización de variables,\\nel conjunto de validación/predicción observa así:\\n')\n",
    "X_std = pd.DataFrame(X_pred_std, columns = X.columns)\n",
    "s = X_std.describe()\n",
    "Ps = s.iloc[[5], :]\n",
    "Ps"
   ]
  },
  {
   "cell_type": "markdown",
   "metadata": {},
   "source": [
    "**Grafica del valor predicho** "
   ]
  },
  {
   "cell_type": "code",
   "execution_count": 110,
   "metadata": {},
   "outputs": [
    {
     "data": {
      "text/plain": [
       "array([2], dtype=int64)"
      ]
     },
     "execution_count": 110,
     "metadata": {},
     "output_type": "execute_result"
    }
   ],
   "source": [
    "# usando svm\n",
    "svm.predict(Ps)"
   ]
  },
  {
   "cell_type": "code",
   "execution_count": 111,
   "metadata": {},
   "outputs": [
    {
     "data": {
      "text/plain": [
       "array([1], dtype=int64)"
      ]
     },
     "execution_count": 111,
     "metadata": {},
     "output_type": "execute_result"
    }
   ],
   "source": [
    "knn.predict(Ps)"
   ]
  },
  {
   "cell_type": "code",
   "execution_count": null,
   "metadata": {},
   "outputs": [],
   "source": []
  }
 ],
 "metadata": {
  "kernelspec": {
   "display_name": "Python 3",
   "language": "python",
   "name": "python3"
  },
  "language_info": {
   "codemirror_mode": {
    "name": "ipython",
    "version": 3
   },
   "file_extension": ".py",
   "mimetype": "text/x-python",
   "name": "python",
   "nbconvert_exporter": "python",
   "pygments_lexer": "ipython3",
   "version": "3.7.1"
  }
 },
 "nbformat": 4,
 "nbformat_minor": 4
}
